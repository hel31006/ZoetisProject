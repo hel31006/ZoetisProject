{
  "nbformat": 4,
  "nbformat_minor": 0,
  "metadata": {
    "colab": {
      "provenance": []
    },
    "kernelspec": {
      "name": "python3",
      "display_name": "Python 3"
    },
    "language_info": {
      "name": "python"
    }
  },
  "cells": [
    {
      "cell_type": "code",
      "execution_count": null,
      "metadata": {
        "colab": {
          "base_uri": "https://localhost:8080/"
        },
        "id": "2IwZLTcZzQQk",
        "outputId": "e9e2dea4-cc98-45b8-8948-f1f40fa64d85"
      },
      "outputs": [
        {
          "output_type": "stream",
          "name": "stdout",
          "text": [
            "Requirement already satisfied: jiwer in /usr/local/lib/python3.11/dist-packages (4.0.0)\n",
            "Requirement already satisfied: click>=8.1.8 in /usr/local/lib/python3.11/dist-packages (from jiwer) (8.2.1)\n",
            "Requirement already satisfied: rapidfuzz>=3.9.7 in /usr/local/lib/python3.11/dist-packages (from jiwer) (3.13.0)\n"
          ]
        }
      ],
      "source": [
        "pip install jiwer"
      ]
    },
    {
      "cell_type": "code",
      "source": [
        "from jiwer import wer\n",
        "\n",
        "# Step 1: Define your reference and hypothesis lists\n",
        "# These should be plain lowercase strings with no punctuation\n",
        "# One per audio file\n",
        "\n",
        "references = [\n",
        "    \" This is Katherine Davis. I just got out of green and sons clinic, where I met with Sharon Melendez on April 26th. This was a web form lead. We discussed dental cleaning kits and how they might fit into their current treatment protocols. I didn't leave any samples this time. We've scheduled a follow-up. Status is marked as closed and converted. Need to share our digital brochure for oral hygiene products.\",\n",
        "    \" This is Matthew Gonzales. I just got out of Scott LLC clinic where I met with Troy Valentine on 22nd April. This was a phone inquiry lead. We discussed post-surgery antibiotics and how it might fit into their current treatment protocols. I didn't leave any samples this time. We've scheduled to follow up. Status is marked as new. They had a positive response to our previous samples and asked for a follow-up in one week.\",\n",
        "    \"Hello, Luca Belsa. I just completed a discussion with Sarah Ward at green and sons Clinic. This was a web form lead. We mainly focus on post-traumatic antibiotics. I didn't leave any samples. Also I didn't schedule a follow-up. No, no, no. I had schedule a follow-up. The current status in CRM is marked as new. Besides, they asked about integrating this into their existing treatment plans.\",\n",
        "    \" Hello, this is Katherine Davis. I just completed a discussion with RIO Oh no sorry Pratt Clinic. I spoke to Victoria Walsh. We mainly focused on joint support supplements in our conversation and I didn't leave any samples this time and I was also not able to schedule a follow-up. The current status would be marked as working and please note that they asked about integrating this into their existing treatment plans.\",\n",
        "    \" Hey Anna Davis this side and I just got out of Harmony Animal Clinic where I met with Emma Chen. This was a referral lead we discussed about canine vaccines and how they might fit into their current treatment plan. I didn't leave any samples this time. We have scheduled a follow up. Status would be marked as new and they have requested more information on our seasonal allergy medications.\",\n",
        "    \" Hello, this is Erik Vance. I just completed a discussion at Harbor Town Clinic. I met with Mark Freeman. We mainly focused on pain relief medication. I left some samples, but I didn't schedule a follow-up. The current status is marked as working. Additional note, they asked about integrating this into their existing treatment plans.\",\n",
        "    \" Hey, this is Brandon Rean. I just got out of Scott Clinic where I met with Troy Valentine on April 13th. This was a web form lead we discussed joint support supplements and how they may fit into their current treatment. I left some samples for them to try and we have scheduled a follow-up. Status is marked as closed converted. Need to coordinate calls with the procurement team.\",\n",
        "    \" Hey this is Elizabeth Green, just finished a conversation with Victoria Walsh. Over at Pratt Fras. Got the lead through referral. We talked about flea and tick prevention kits. Didn't leave any samples this time. I'll be following up soon. The status would be new. Oh, and side note, she wants to compare trial results after a month.\",\n",
        "    \" Hello, this is Matthew Gonzales. I just completed a discussion with Jane Murphy at Mayo Clinic. We talked about postoperative pain relief gel. I left samples. Unable to schedule follow up. The current status in CRM is marked as new. They also asked about our pain relief product line.\",\n",
        "    \" Hey, it's Ricardo Russell. Just wrapped up a chat with Holly White at Sheepdog Clinic. Got the lead through email campaign. We mainly talked about liver health formula. Left a few samples for them to check out. Follow up is scheduled. Status would be new. Oh, and side note, clinic wants sample of our multi-vitamin range in the next meeting.\"\n",
        "]\n",
        "\n",
        "hypotheses = [\n",
        "    \" This is Catherine Davis. I just got out of green and sun's clinic, where I met with Sharon Melendez on April 26th. This was a web form lead. We discussed dental cleaning kits and how they might fit into their current treatment protocols. I didn't leave any samples this time. We've scheduled a follow-up. Status is marked as closed and converted. Need to share our digital brochure for oral hygiene products.\",\n",
        "    \" This is Matthew Gonzales. I just got out of Scott LLC clinic where I met with Troy Valentine on 22nd April. This was a phone inquiry lead. We discussed post-surgery antibiotics and how it might fit into their current treatment protocols. I.D. ID and T. Lee Vene samples this time. We've been scheduled to follow up. Status is marked as new. They had a positive response to our previous samples and asked for a follow-up in one week.\",\n",
        "    \" Hello, Luca Belsa. I just completed a discussion with Sarah Ward at Green and Silence Clinic. This was a web form lead. We mainly focus on post-traumatic antibiotics. I didn't leave any samples. Also I didn't schedule a follow-up. No, no, no. I had schedule a follow-up. The current started in CRM is marked as new. Besides, they asked about integrating this into their existing treatment plans.\",\n",
        "    \" Hello, this is Catherine Davis. I just completed a discussion with RIO Oh no sorry Pratt Clinic. I spoke to Victoria Walsh. We mainly focused on joint support supplements in a conversation and I didn't leave any samples this time and I was also not able to schedule a follow-up. The current status would be marked as working and please note that they asked about integrating this into their existing treatment plans.\",\n",
        "    \" Hey Anna Davis this side and I just got out of Harmony Animal Clinic where I met with Emma Chen. This was a referral lead we discussed about canine vaccines and how they might fit into their current treatment plan. I didn't leave any samples this time. We have scheduled a follow up. Staters would be marked as new and they have requested more information on our seasonal allergy medications.\",\n",
        "    \" Hello, this is Eric Vance. I just completed a discussion at Harbor Town Clinic. I met with Mark Freeman. We mainly focused on pain relief medication. I left some samples, but I didn't schedule a follow-up. The current status is marked as working. Additional note, they asked about integrating this into their existing treatment plans.\",\n",
        "    \" Hey, this is Brandon Rean. I just got out of Scott Clinic where I met with Troy Valentine's own April 13th. This was a web form lead we discussed joy supports supplements and how they may fit into their current treatment. I left some samples for them to try and we wish scheduled a follow-up. Stadled is marked as closed converted. Need to coordinate course with the procurement team.\",\n",
        "    \" Hey this is Elizabeth Green, just finished a conversation with Victoria Walsh. Over at Pratt Fras. Got the lead through referral. We talked about flea and tick prevention kits. Didn't leave any samples this time. I'll be following up soon. The status would be new. Oh, and side note, she wants to compare trial results after a month.\",\n",
        "    \" Hello, this is Matthew Gonzales. I just completed a discussion with Jane Murphy at Mayo Clinic. We talked about postoperative pain relief gel. I left samples. On a good to schedule follow up. The current status in CRM is marked as new. They also asked about our pain relief product line.\",\n",
        "    \" Hey, it's Ricardo Russell. Just wrapped up a chat with Holly White at Sheepdog Clinic. Got the lead through email campaign. We mainly talked about liver health formula. Left a few samples for them to check out. Follow up is scheduled. Status would be new. Oh, and side note, clinic wants sample of our multi-vitamin range in the next meeting.\"\n",
        "]\n",
        "\n",
        "# Step 2: Calculate WER for each pair\n",
        "total_wer = 0\n",
        "print(\"WER for each file:\")\n",
        "for i in range(len(references)):\n",
        "    w = wer(references[i], hypotheses[i])\n",
        "    total_wer += w\n",
        "    print(f\"Recording {i+1}: WER = {w:.2%}\")\n"
      ],
      "metadata": {
        "colab": {
          "base_uri": "https://localhost:8080/"
        },
        "id": "cg-Fj6mUzefA",
        "outputId": "0b7ca19e-e04f-43d9-ee36-653ab46e285f"
      },
      "execution_count": null,
      "outputs": [
        {
          "output_type": "stream",
          "name": "stdout",
          "text": [
            "WER for each file:\n",
            "Recording 1: WER = 2.82%\n",
            "Recording 2: WER = 9.33%\n",
            "Recording 3: WER = 4.48%\n",
            "Recording 4: WER = 2.78%\n",
            "Recording 5: WER = 1.43%\n",
            "Recording 6: WER = 1.82%\n",
            "Recording 7: WER = 10.14%\n",
            "Recording 8: WER = 0.00%\n",
            "Recording 9: WER = 6.12%\n",
            "Recording 10: WER = 0.00%\n"
          ]
        }
      ]
    },
    {
      "cell_type": "code",
      "source": [
        "# Step 3: Average WER\n",
        "average_wer = total_wer / len(references)\n",
        "print(f\"\\nAverage WER: {average_wer:.2%}\")"
      ],
      "metadata": {
        "id": "QsGjw_eCuivG",
        "outputId": "e4dccfda-3c1d-4261-cf39-172b10cf93ad",
        "colab": {
          "base_uri": "https://localhost:8080/"
        }
      },
      "execution_count": null,
      "outputs": [
        {
          "output_type": "stream",
          "name": "stdout",
          "text": [
            "\n",
            "Average WER: 3.89%\n"
          ]
        }
      ]
    }
  ]
}